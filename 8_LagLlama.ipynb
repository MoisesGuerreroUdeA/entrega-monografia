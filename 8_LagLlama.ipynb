{
 "cells": [
  {
   "metadata": {
    "ExecuteTime": {
     "end_time": "2024-06-10T23:03:24.330578Z",
     "start_time": "2024-06-10T23:03:24.192945Z"
    }
   },
   "cell_type": "code",
   "source": "!git clone https://github.com/time-series-foundation-models/lag-llama/",
   "id": "f96e4a79c7a61592",
   "outputs": [
    {
     "name": "stdout",
     "output_type": "stream",
     "text": [
      "fatal: destination path 'lag-llama' already exists and is not an empty directory.\r\n"
     ]
    }
   ],
   "execution_count": 1
  },
  {
   "metadata": {
    "ExecuteTime": {
     "end_time": "2024-06-10T23:03:26.156265Z",
     "start_time": "2024-06-10T23:03:24.331794Z"
    }
   },
   "cell_type": "code",
   "source": "!huggingface-cli download time-series-foundation-models/Lag-Llama lag-llama.ckpt --local-dir \"data/lag-llama\"",
   "id": "5484005f211234f",
   "outputs": [
    {
     "name": "stdout",
     "output_type": "stream",
     "text": [
      "data/lag-llama/lag-llama.ckpt\r\n"
     ]
    }
   ],
   "execution_count": 2
  },
  {
   "metadata": {
    "ExecuteTime": {
     "end_time": "2024-06-10T23:03:28.580172Z",
     "start_time": "2024-06-10T23:03:26.157748Z"
    }
   },
   "cell_type": "code",
   "source": "!pip install -r lag-llama/requirements.txt --quiet",
   "id": "b58caa534d84b295",
   "outputs": [],
   "execution_count": 3
  },
  {
   "metadata": {
    "ExecuteTime": {
     "end_time": "2024-06-10T23:03:33.420564Z",
     "start_time": "2024-06-10T23:03:28.581575Z"
    }
   },
   "cell_type": "code",
   "source": [
    "import sys\n",
    "\n",
    "sys.path.append('lag-llama')\n",
    "from itertools import islice\n",
    "\n",
    "from matplotlib import pyplot as plt\n",
    "import matplotlib.dates as mdates\n",
    "\n",
    "import torch\n",
    "from gluonts.evaluation import make_evaluation_predictions, Evaluator\n",
    "from gluonts.dataset.repository.datasets import get_dataset\n",
    "\n",
    "from gluonts.dataset.pandas import PandasDataset\n",
    "import pandas as pd\n",
    "import os\n",
    "from lag_llama.gluon.estimator import LagLlamaEstimator"
   ],
   "id": "b24a31a1eed8a507",
   "outputs": [
    {
     "name": "stderr",
     "output_type": "stream",
     "text": [
      "/Users/aclicona/Documents/Python/Monografia/venv/lib/python3.11/site-packages/gluonts/json.py:101: UserWarning: Using `json`-module for json-handling. Consider installing one of `orjson`, `ujson` to speed up serialization and deserialization.\n",
      "  warnings.warn(\n"
     ]
    }
   ],
   "execution_count": 4
  },
  {
   "metadata": {
    "ExecuteTime": {
     "end_time": "2024-06-10T23:03:33.425540Z",
     "start_time": "2024-06-10T23:03:33.422350Z"
    }
   },
   "cell_type": "code",
   "source": [
    "def get_lag_llama_predictions(dataset, prediction_length, device, context_length=32, use_rope_scaling=False, num_samples=100):\n",
    "    ckpt = torch.load(\"data/lag-llama/lag-llama.ckpt\", map_location=device) # Uses GPU since in this Colab we use a GPU.\n",
    "    estimator_args = ckpt[\"hyper_parameters\"][\"model_kwargs\"]\n",
    "\n",
    "    rope_scaling_arguments = {\n",
    "        \"type\": \"linear\",\n",
    "        \"factor\": max(1.0, (context_length + prediction_length) / estimator_args[\"context_length\"]),\n",
    "    }\n",
    "\n",
    "    estimator = LagLlamaEstimator(\n",
    "        ckpt_path=\"data/lag-llama/lag-llama.ckpt\",\n",
    "        prediction_length=prediction_length,\n",
    "        context_length=context_length, # Lag-Llama was trained with a context length of 32, but can work with any context length\n",
    "\n",
    "        # estimator args\n",
    "        input_size=estimator_args[\"input_size\"],\n",
    "        n_layer=estimator_args[\"n_layer\"],\n",
    "        n_embd_per_head=estimator_args[\"n_embd_per_head\"],\n",
    "        n_head=estimator_args[\"n_head\"],\n",
    "        scaling=estimator_args[\"scaling\"],\n",
    "        time_feat=estimator_args[\"time_feat\"],\n",
    "        rope_scaling=rope_scaling_arguments if use_rope_scaling else None,\n",
    "\n",
    "        batch_size=1,\n",
    "        num_parallel_samples=100,\n",
    "        device=device,\n",
    "    )\n",
    "\n",
    "    lightning_module = estimator.create_lightning_module()\n",
    "    transformation = estimator.create_transformation()\n",
    "    predictor = estimator.create_predictor(transformation, lightning_module)\n",
    "\n",
    "    forecast_it, ts_it = make_evaluation_predictions(\n",
    "        dataset=dataset,\n",
    "        predictor=predictor,\n",
    "        num_samples=num_samples\n",
    "    )\n",
    "    forecasts = list(forecast_it)\n",
    "    tss = list(ts_it)\n",
    "\n",
    "    return forecasts, tss"
   ],
   "id": "db23843086be83d1",
   "outputs": [],
   "execution_count": 5
  },
  {
   "metadata": {
    "ExecuteTime": {
     "end_time": "2024-06-10T23:03:33.463383Z",
     "start_time": "2024-06-10T23:03:33.426989Z"
    }
   },
   "cell_type": "code",
   "source": [
    "\n",
    "df_station = pd.read_feather(os.path.join('data', 'dataset.feather'))\n",
    "df_station"
   ],
   "id": "fd86c1684039df6b",
   "outputs": [
    {
     "data": {
      "text/plain": [
       "                 timestamp  GHI  toa  wind_dir  humidity  precipitation  \\\n",
       "0      2002-01-01 00:00:00  0.0  0.0    142.80     81.81            0.0   \n",
       "1      2002-01-01 00:30:00  0.0  0.0    142.80     81.81            0.0   \n",
       "2      2002-01-01 01:00:00  0.0  0.0    147.96     82.59            0.0   \n",
       "3      2002-01-01 01:30:00  0.0  0.0    153.16     82.90            0.0   \n",
       "4      2002-01-01 02:00:00  0.0  0.0    156.67     83.40            0.0   \n",
       "...                    ...  ...  ...       ...       ...            ...   \n",
       "157771 2010-12-31 21:30:00  0.0  0.0    167.18     88.50            0.0   \n",
       "157772 2010-12-31 22:00:00  0.0  0.0    172.75     88.10            0.0   \n",
       "157773 2010-12-31 22:30:00  0.0  0.0    169.03     89.59            0.0   \n",
       "157774 2010-12-31 23:00:00  0.0  0.0    174.85     90.69            0.0   \n",
       "157775 2010-12-31 23:30:00  0.0  0.0    178.07     91.20            0.0   \n",
       "\n",
       "        air_temp  wind_sp  sun_elev  sun_azim  day_of_year  total_minutes_day  \\\n",
       "0           8.67     2.27    -71.62    345.99            1                  0   \n",
       "1           8.67     2.27    -71.92      8.14            1                 30   \n",
       "2           8.54     2.37    -70.11     28.73            1                 60   \n",
       "3           8.60     2.29    -66.69     45.10            1                 90   \n",
       "4           8.49     1.52    -62.26     57.44            1                120   \n",
       "...          ...      ...       ...       ...          ...                ...   \n",
       "157771      5.78     2.95    -50.47    283.73          365               1290   \n",
       "157772      5.82     2.51    -55.87    290.91          365               1320   \n",
       "157773      5.23     1.97    -60.99    299.78          365               1350   \n",
       "157774      4.78     2.09    -65.61    311.24          365               1380   \n",
       "157775      4.87     1.98    -69.34    326.46          365               1410   \n",
       "\n",
       "        attenuation_index  \n",
       "0                     0.0  \n",
       "1                     0.0  \n",
       "2                     0.0  \n",
       "3                     0.0  \n",
       "4                     0.0  \n",
       "...                   ...  \n",
       "157771                0.0  \n",
       "157772                0.0  \n",
       "157773                0.0  \n",
       "157774                0.0  \n",
       "157775                0.0  \n",
       "\n",
       "[157776 rows x 13 columns]"
      ],
      "text/html": [
       "<div>\n",
       "<style scoped>\n",
       "    .dataframe tbody tr th:only-of-type {\n",
       "        vertical-align: middle;\n",
       "    }\n",
       "\n",
       "    .dataframe tbody tr th {\n",
       "        vertical-align: top;\n",
       "    }\n",
       "\n",
       "    .dataframe thead th {\n",
       "        text-align: right;\n",
       "    }\n",
       "</style>\n",
       "<table border=\"1\" class=\"dataframe\">\n",
       "  <thead>\n",
       "    <tr style=\"text-align: right;\">\n",
       "      <th></th>\n",
       "      <th>timestamp</th>\n",
       "      <th>GHI</th>\n",
       "      <th>toa</th>\n",
       "      <th>wind_dir</th>\n",
       "      <th>humidity</th>\n",
       "      <th>precipitation</th>\n",
       "      <th>air_temp</th>\n",
       "      <th>wind_sp</th>\n",
       "      <th>sun_elev</th>\n",
       "      <th>sun_azim</th>\n",
       "      <th>day_of_year</th>\n",
       "      <th>total_minutes_day</th>\n",
       "      <th>attenuation_index</th>\n",
       "    </tr>\n",
       "  </thead>\n",
       "  <tbody>\n",
       "    <tr>\n",
       "      <th>0</th>\n",
       "      <td>2002-01-01 00:00:00</td>\n",
       "      <td>0.0</td>\n",
       "      <td>0.0</td>\n",
       "      <td>142.80</td>\n",
       "      <td>81.81</td>\n",
       "      <td>0.0</td>\n",
       "      <td>8.67</td>\n",
       "      <td>2.27</td>\n",
       "      <td>-71.62</td>\n",
       "      <td>345.99</td>\n",
       "      <td>1</td>\n",
       "      <td>0</td>\n",
       "      <td>0.0</td>\n",
       "    </tr>\n",
       "    <tr>\n",
       "      <th>1</th>\n",
       "      <td>2002-01-01 00:30:00</td>\n",
       "      <td>0.0</td>\n",
       "      <td>0.0</td>\n",
       "      <td>142.80</td>\n",
       "      <td>81.81</td>\n",
       "      <td>0.0</td>\n",
       "      <td>8.67</td>\n",
       "      <td>2.27</td>\n",
       "      <td>-71.92</td>\n",
       "      <td>8.14</td>\n",
       "      <td>1</td>\n",
       "      <td>30</td>\n",
       "      <td>0.0</td>\n",
       "    </tr>\n",
       "    <tr>\n",
       "      <th>2</th>\n",
       "      <td>2002-01-01 01:00:00</td>\n",
       "      <td>0.0</td>\n",
       "      <td>0.0</td>\n",
       "      <td>147.96</td>\n",
       "      <td>82.59</td>\n",
       "      <td>0.0</td>\n",
       "      <td>8.54</td>\n",
       "      <td>2.37</td>\n",
       "      <td>-70.11</td>\n",
       "      <td>28.73</td>\n",
       "      <td>1</td>\n",
       "      <td>60</td>\n",
       "      <td>0.0</td>\n",
       "    </tr>\n",
       "    <tr>\n",
       "      <th>3</th>\n",
       "      <td>2002-01-01 01:30:00</td>\n",
       "      <td>0.0</td>\n",
       "      <td>0.0</td>\n",
       "      <td>153.16</td>\n",
       "      <td>82.90</td>\n",
       "      <td>0.0</td>\n",
       "      <td>8.60</td>\n",
       "      <td>2.29</td>\n",
       "      <td>-66.69</td>\n",
       "      <td>45.10</td>\n",
       "      <td>1</td>\n",
       "      <td>90</td>\n",
       "      <td>0.0</td>\n",
       "    </tr>\n",
       "    <tr>\n",
       "      <th>4</th>\n",
       "      <td>2002-01-01 02:00:00</td>\n",
       "      <td>0.0</td>\n",
       "      <td>0.0</td>\n",
       "      <td>156.67</td>\n",
       "      <td>83.40</td>\n",
       "      <td>0.0</td>\n",
       "      <td>8.49</td>\n",
       "      <td>1.52</td>\n",
       "      <td>-62.26</td>\n",
       "      <td>57.44</td>\n",
       "      <td>1</td>\n",
       "      <td>120</td>\n",
       "      <td>0.0</td>\n",
       "    </tr>\n",
       "    <tr>\n",
       "      <th>...</th>\n",
       "      <td>...</td>\n",
       "      <td>...</td>\n",
       "      <td>...</td>\n",
       "      <td>...</td>\n",
       "      <td>...</td>\n",
       "      <td>...</td>\n",
       "      <td>...</td>\n",
       "      <td>...</td>\n",
       "      <td>...</td>\n",
       "      <td>...</td>\n",
       "      <td>...</td>\n",
       "      <td>...</td>\n",
       "      <td>...</td>\n",
       "    </tr>\n",
       "    <tr>\n",
       "      <th>157771</th>\n",
       "      <td>2010-12-31 21:30:00</td>\n",
       "      <td>0.0</td>\n",
       "      <td>0.0</td>\n",
       "      <td>167.18</td>\n",
       "      <td>88.50</td>\n",
       "      <td>0.0</td>\n",
       "      <td>5.78</td>\n",
       "      <td>2.95</td>\n",
       "      <td>-50.47</td>\n",
       "      <td>283.73</td>\n",
       "      <td>365</td>\n",
       "      <td>1290</td>\n",
       "      <td>0.0</td>\n",
       "    </tr>\n",
       "    <tr>\n",
       "      <th>157772</th>\n",
       "      <td>2010-12-31 22:00:00</td>\n",
       "      <td>0.0</td>\n",
       "      <td>0.0</td>\n",
       "      <td>172.75</td>\n",
       "      <td>88.10</td>\n",
       "      <td>0.0</td>\n",
       "      <td>5.82</td>\n",
       "      <td>2.51</td>\n",
       "      <td>-55.87</td>\n",
       "      <td>290.91</td>\n",
       "      <td>365</td>\n",
       "      <td>1320</td>\n",
       "      <td>0.0</td>\n",
       "    </tr>\n",
       "    <tr>\n",
       "      <th>157773</th>\n",
       "      <td>2010-12-31 22:30:00</td>\n",
       "      <td>0.0</td>\n",
       "      <td>0.0</td>\n",
       "      <td>169.03</td>\n",
       "      <td>89.59</td>\n",
       "      <td>0.0</td>\n",
       "      <td>5.23</td>\n",
       "      <td>1.97</td>\n",
       "      <td>-60.99</td>\n",
       "      <td>299.78</td>\n",
       "      <td>365</td>\n",
       "      <td>1350</td>\n",
       "      <td>0.0</td>\n",
       "    </tr>\n",
       "    <tr>\n",
       "      <th>157774</th>\n",
       "      <td>2010-12-31 23:00:00</td>\n",
       "      <td>0.0</td>\n",
       "      <td>0.0</td>\n",
       "      <td>174.85</td>\n",
       "      <td>90.69</td>\n",
       "      <td>0.0</td>\n",
       "      <td>4.78</td>\n",
       "      <td>2.09</td>\n",
       "      <td>-65.61</td>\n",
       "      <td>311.24</td>\n",
       "      <td>365</td>\n",
       "      <td>1380</td>\n",
       "      <td>0.0</td>\n",
       "    </tr>\n",
       "    <tr>\n",
       "      <th>157775</th>\n",
       "      <td>2010-12-31 23:30:00</td>\n",
       "      <td>0.0</td>\n",
       "      <td>0.0</td>\n",
       "      <td>178.07</td>\n",
       "      <td>91.20</td>\n",
       "      <td>0.0</td>\n",
       "      <td>4.87</td>\n",
       "      <td>1.98</td>\n",
       "      <td>-69.34</td>\n",
       "      <td>326.46</td>\n",
       "      <td>365</td>\n",
       "      <td>1410</td>\n",
       "      <td>0.0</td>\n",
       "    </tr>\n",
       "  </tbody>\n",
       "</table>\n",
       "<p>157776 rows × 13 columns</p>\n",
       "</div>"
      ]
     },
     "execution_count": 6,
     "metadata": {},
     "output_type": "execute_result"
    }
   ],
   "execution_count": 6
  },
  {
   "metadata": {
    "ExecuteTime": {
     "end_time": "2024-06-10T23:03:33.495512Z",
     "start_time": "2024-06-10T23:03:33.464083Z"
    }
   },
   "cell_type": "code",
   "source": [
    "df_station.set_index('timestamp', inplace=True)\n",
    "df_station['item_id'] = 'AV01'\n",
    "# Set numerical columns as float32\n",
    "for col in df_station.columns:\n",
    "    # Check if column is not of string type\n",
    "    if df_station[col].dtype != 'object' and pd.api.types.is_string_dtype(df_station[col]) == False:\n",
    "        df_station[col] = df_station[col].astype('float32')\n",
    "\n",
    "# Create the Pandas\n",
    "dataset = PandasDataset.from_long_dataframe(df_station, target=\"GHI\", item_id=\"item_id\")\n",
    "\n",
    "prediction_length = 48  # Define your prediction length. We use 24 here since the data is of hourly frequency\n",
    "num_samples = 100 # number of samples sampled from the probability distribution for each timestep\n",
    "device = torch.device(\"cpu\") # You can switch this to CPU or other GPUs if you'd like, depending on your environment\n",
    "# device = torch.device(\"cuda:0\") # You can switch this to CPU or other GPUs if you'd like, depending on your environment"
   ],
   "id": "c4a55535665ffec5",
   "outputs": [],
   "execution_count": 7
  },
  {
   "metadata": {
    "ExecuteTime": {
     "end_time": "2024-06-10T23:03:53.598409Z",
     "start_time": "2024-06-10T23:03:33.496592Z"
    }
   },
   "cell_type": "code",
   "source": "forecasts, tss = get_lag_llama_predictions(dataset, prediction_length, device, num_samples)",
   "id": "fc72dfe2d42b2db2",
   "outputs": [],
   "execution_count": 8
  },
  {
   "metadata": {
    "ExecuteTime": {
     "end_time": "2024-06-10T23:03:53.604038Z",
     "start_time": "2024-06-10T23:03:53.600337Z"
    }
   },
   "cell_type": "code",
   "source": "print(type(forecasts[0]))",
   "id": "5488f76f8d85ff46",
   "outputs": [
    {
     "name": "stdout",
     "output_type": "stream",
     "text": [
      "<class 'gluonts.model.forecast.SampleForecast'>\n"
     ]
    }
   ],
   "execution_count": 9
  },
  {
   "metadata": {
    "ExecuteTime": {
     "end_time": "2024-06-10T23:03:53.750444Z",
     "start_time": "2024-06-10T23:03:53.605594Z"
    }
   },
   "cell_type": "code",
   "source": [
    "plt.figure(figsize=(20, 15))\n",
    "date_formater = mdates.DateFormatter('%b, %d')\n",
    "plt.rcParams.update({'font.size': 15})\n",
    "\n",
    "for idx, (forecast, ts) in islice(enumerate(zip(forecasts, tss)), 1):\n",
    "    ax = plt.subplot(3, 3, idx+1)\n",
    "\n",
    "    plt.plot(ts[-4 * prediction_length:].to_timestamp(), label=\"Actual\", )\n",
    "    forecast.plot(color='g')\n",
    "    plt.xticks(rotation=60)\n",
    "    ax.xaxis.set_major_formatter(date_formater)\n",
    "    ax.set_title(forecast.item_id)\n",
    "\n",
    "plt.gcf().tight_layout()\n",
    "plt.legend()\n",
    "plt.show()"
   ],
   "id": "41eb44fce3f96049",
   "outputs": [
    {
     "data": {
      "text/plain": [
       "<Figure size 2000x1500 with 1 Axes>"
      ],
      "image/png": "[encoded data removed]"
     },
     "metadata": {},
     "output_type": "display_data"
    }
   ],
   "execution_count": 10
  },
  {
   "metadata": {
    "ExecuteTime": {
     "end_time": "2024-06-10T23:03:53.753876Z",
     "start_time": "2024-06-10T23:03:53.751148Z"
    }
   },
   "cell_type": "code",
   "source": "evaluator = Evaluator()",
   "id": "e550e7672b38b0eb",
   "outputs": [],
   "execution_count": 11
  },
  {
   "metadata": {
    "ExecuteTime": {
     "end_time": "2024-06-10T23:03:54.292101Z",
     "start_time": "2024-06-10T23:03:53.755704Z"
    }
   },
   "cell_type": "code",
   "source": "evaluator(tss, forecasts)",
   "id": "880500607b660a5a",
   "outputs": [
    {
     "name": "stderr",
     "output_type": "stream",
     "text": [
      "Running evaluation: 1it [00:00, 10.95it/s]\n",
      "/Users/aclicona/Documents/Python/Monografia/venv/lib/python3.11/site-packages/gluonts/json.py:101: UserWarning: Using `json`-module for json-handling. Consider installing one of `orjson`, `ujson` to speed up serialization and deserialization.\n",
      "  warnings.warn(\n"
     ]
    },
    {
     "data": {
      "text/plain": [
       "({'MSE': 3515.0862630208335,\n",
       "  'abs_error': 1692.104736328125,\n",
       "  'abs_target_sum': 3214.0400390625,\n",
       "  'abs_target_mean': 66.95916748046875,\n",
       "  'seasonal_error': 52.11915905631659,\n",
       "  'MASE': 0.6763766462299345,\n",
       "  'MAPE': 0.8716567190069902,\n",
       "  'sMAPE': 1.4402734438578289,\n",
       "  'MSIS': 5.6365221151361915,\n",
       "  'num_masked_target_values': 0.0,\n",
       "  'QuantileLoss[0.1]': 421.155588388443,\n",
       "  'Coverage[0.1]': 0.0,\n",
       "  'QuantileLoss[0.2]': 940.3508255004883,\n",
       "  'Coverage[0.2]': 0.16666666666666666,\n",
       "  'QuantileLoss[0.3]': 1413.2891150832174,\n",
       "  'Coverage[0.3]': 0.20833333333333334,\n",
       "  'QuantileLoss[0.4]': 1575.6186830848455,\n",
       "  'Coverage[0.4]': 0.2916666666666667,\n",
       "  'QuantileLoss[0.5]': 1692.104838072788,\n",
       "  'Coverage[0.5]': 0.3541666666666667,\n",
       "  'QuantileLoss[0.6]': 1590.65587239638,\n",
       "  'Coverage[0.6]': 0.4166666666666667,\n",
       "  'QuantileLoss[0.7]': 1400.9487911611798,\n",
       "  'Coverage[0.7]': 0.5208333333333334,\n",
       "  'QuantileLoss[0.8]': 1231.1599656581875,\n",
       "  'Coverage[0.8]': 0.6041666666666666,\n",
       "  'QuantileLoss[0.9]': 939.5356116384265,\n",
       "  'Coverage[0.9]': 0.75,\n",
       "  'RMSE': 59.28816292499569,\n",
       "  'NRMSE': 0.8854375757029743,\n",
       "  'ND': 0.5264728241598674,\n",
       "  'wQuantileLoss[0.1]': 0.13103619845112116,\n",
       "  'wQuantileLoss[0.2]': 0.29257595240623646,\n",
       "  'wQuantileLoss[0.3]': 0.4397235559938632,\n",
       "  'wQuantileLoss[0.4]': 0.49022994858036556,\n",
       "  'wQuantileLoss[0.5]': 0.5264728558161821,\n",
       "  'wQuantileLoss[0.6]': 0.49490854285074704,\n",
       "  'wQuantileLoss[0.7]': 0.43588405064481434,\n",
       "  'wQuantileLoss[0.8]': 0.3830568227822399,\n",
       "  'wQuantileLoss[0.9]': 0.2923223109294179,\n",
       "  'mean_absolute_QuantileLoss': 1244.9799212204393,\n",
       "  'mean_wQuantileLoss': 0.38735669316166527,\n",
       "  'MAE_Coverage': 0.29444444444444445,\n",
       "  'OWA': nan},\n",
       "   item_id    forecast_start          MSE    abs_error  abs_target_sum  \\\n",
       " 0    AV01  2010-12-31 00:00  3515.086263  1692.104736     3214.040039   \n",
       " \n",
       "    abs_target_mean  seasonal_error      MASE      MAPE     sMAPE  ...  \\\n",
       " 0        66.959167       52.119159  0.676377  0.871657  1.440273  ...   \n",
       " \n",
       "    QuantileLoss[0.5]  Coverage[0.5]  QuantileLoss[0.6]  Coverage[0.6]  \\\n",
       " 0        1692.104838       0.354167        1590.655872       0.416667   \n",
       " \n",
       "    QuantileLoss[0.7]  Coverage[0.7]  QuantileLoss[0.8]  Coverage[0.8]  \\\n",
       " 0        1400.948791       0.520833        1231.159966       0.604167   \n",
       " \n",
       "    QuantileLoss[0.9]  Coverage[0.9]  \n",
       " 0         939.535612           0.75  \n",
       " \n",
       " [1 rows x 31 columns])"
      ]
     },
     "execution_count": 12,
     "metadata": {},
     "output_type": "execute_result"
    }
   ],
   "execution_count": 12
  },
  {
   "metadata": {
    "ExecuteTime": {
     "end_time": "2024-06-10T23:03:54.294392Z",
     "start_time": "2024-06-10T23:03:54.292894Z"
    }
   },
   "cell_type": "code",
   "source": "",
   "id": "f448a68b0aced011",
   "outputs": [],
   "execution_count": 12
  }
 ],
 "metadata": {
  "kernelspec": {
   "display_name": "Python 3",
   "language": "python",
   "name": "python3"
  },
  "language_info": {
   "codemirror_mode": {
    "name": "ipython",
    "version": 2
   },
   "file_extension": ".py",
   "mimetype": "text/x-python",
   "name": "python",
   "nbconvert_exporter": "python",
   "pygments_lexer": "ipython2",
   "version": "2.7.6"
  }
 },
 "nbformat": 4,
 "nbformat_minor": 5
}
