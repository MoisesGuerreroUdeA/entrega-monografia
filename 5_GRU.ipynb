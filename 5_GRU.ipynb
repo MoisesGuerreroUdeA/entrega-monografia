{
 "cells": [
  {
   "cell_type": "code",
   "execution_count": 7,
   "id": "7e5c26212e06947e",
   "metadata": {
    "ExecuteTime": {
     "end_time": "2024-06-04T17:14:16.545969Z",
     "start_time": "2024-06-04T17:14:16.524273Z"
    }
   },
   "outputs": [],
   "source": [
    "try:\n",
    "    from tools.utils import EnvironmentDirOptions\n",
    "except:\n",
    "    !wget --no-cache -O utils.py -q https://raw.githubusercontent.com/aclicona/Utils/main/MachineLearning/utils.py\n",
    "    from utils import EnvironmentDirOptions"
   ]
  },
  {
   "cell_type": "code",
   "execution_count": 8,
   "id": "ae1244c722abeb34",
   "metadata": {
    "ExecuteTime": {
     "end_time": "2024-06-04T17:14:16.570842Z",
     "start_time": "2024-06-04T17:14:16.555881Z"
    }
   },
   "outputs": [],
   "source": [
    "github_repo_path = \"https://github.com/MoisesGuerreroUdeA/Monografia/archive/refs/heads/main-licona.zip\"\n",
    "repo_name = \"Monografia\"\n",
    "env_token_key = \"GITHUB_TOKEN\"\n",
    "env_dir_options = EnvironmentDirOptions()\n",
    "env_dir_options.get_repo_from_git(github_repo_path, repo_name, env_token_key)\n",
    "main_dir = env_dir_options.main_dir"
   ]
  },
  {
   "cell_type": "code",
   "execution_count": 9,
   "id": "initial_id",
   "metadata": {
    "ExecuteTime": {
     "end_time": "2024-06-04T17:14:16.576221Z",
     "start_time": "2024-06-04T17:14:16.571962Z"
    }
   },
   "outputs": [],
   "source": [
    "import os\n",
    "import pandas as pd\n",
    "from keras import backend\n",
    "import json\n",
    "\n",
    "os.environ['LOG_LEVEL'] = 'INFO'\n",
    "from tools.model_generation.generator import Generator\n",
    "from tools.model_generation.trainer import Trainer\n",
    "from tools.model_generation.evaluator import ModelEvaluator\n",
    "from tools.utils import DataSelectionForEvaluator, load_scaler, save_scaler"
   ]
  },
  {
   "cell_type": "code",
   "execution_count": 10,
   "id": "369bea389286a68",
   "metadata": {
    "ExecuteTime": {
     "end_time": "2024-06-04T17:14:16.668979Z",
     "start_time": "2024-06-04T17:14:16.577479Z"
    }
   },
   "outputs": [],
   "source": [
    "dataset = pd.read_feather(os.path.join(main_dir, 'data', 'dataset.feather'))"
   ]
  },
  {
   "cell_type": "code",
   "execution_count": 11,
   "id": "f00859b2d937da0a",
   "metadata": {
    "ExecuteTime": {
     "end_time": "2024-06-04T17:14:16.680668Z",
     "start_time": "2024-06-04T17:14:16.671352Z"
    }
   },
   "outputs": [],
   "source": [
    "json_config_path = os.path.join(main_dir, \"config/config_models_GRU_3.json\")\n",
    "file = open(json_config_path, 'r')\n",
    "model_configurations = json.load(file)\n",
    "\n",
    "model_generator = Generator()\n",
    "trainer = Trainer()\n",
    "model_save_dir = env_dir_options.save_dir_path(\"models/\")"
   ]
  },
  {
   "cell_type": "code",
   "execution_count": 12,
   "id": "4ff7e550585a3794",
   "metadata": {
    "ExecuteTime": {
     "end_time": "2024-06-04T20:30:45.220839Z",
     "start_time": "2024-06-04T17:14:16.682334Z"
    }
   },
   "outputs": [
    {
     "name": "stderr",
     "output_type": "stream",
     "text": [
      "2024-06-04 12:14:18,127 INFO Adding a Input layer to the model with name input_1\n",
      "2024-06-04 12:14:18,128 INFO Configuring input shape = (96, 11)\n",
      "2024-06-04 12:14:18,129 INFO Adding a Gru layer to the model with name None\n",
      "2024-06-04 12:14:18,253 INFO Adding a Dropout layer to the model with name None\n",
      "2024-06-04 12:14:18,256 INFO Adding a Gru layer to the model with name None\n",
      "2024-06-04 12:14:18,283 INFO Adding a Dropout layer to the model with name None\n",
      "2024-06-04 12:14:18,287 INFO Adding a Gru layer to the model with name None\n",
      "2024-06-04 12:14:18,322 INFO Adding a Dropout layer to the model with name None\n",
      "2024-06-04 12:14:18,326 INFO Adding a Gru layer to the model with name None\n",
      "2024-06-04 12:14:18,340 INFO Adding a Dropout layer to the model with name None\n",
      "2024-06-04 12:14:18,344 INFO Adding a Dense layer to the model with name dense_out\n"
     ]
    },
    {
     "data": {
      "text/html": [
       "<pre style=\"white-space:pre;overflow-x:auto;line-height:normal;font-family:Menlo,'DejaVu Sans Mono',consolas,'Courier New',monospace\"><span style=\"font-weight: bold\">Model: \"GRU_2_look96_overlap1\"</span>\n",
       "</pre>\n"
      ],
      "text/plain": [
       "\u001b[1mModel: \"GRU_2_look96_overlap1\"\u001b[0m\n"
      ]
     },
     "metadata": {},
     "output_type": "display_data"
    },
    {
     "data": {
      "text/html": [
       "<pre style=\"white-space:pre;overflow-x:auto;line-height:normal;font-family:Menlo,'DejaVu Sans Mono',consolas,'Courier New',monospace\">┏━━━━━━━━━━━━━━━━━━━━━━━━━━━━━━━━━┳━━━━━━━━━━━━━━━━━━━━━━━━┳━━━━━━━━━━━━━━━┓\n",
       "┃<span style=\"font-weight: bold\"> Layer (type)                    </span>┃<span style=\"font-weight: bold\"> Output Shape           </span>┃<span style=\"font-weight: bold\">       Param # </span>┃\n",
       "┡━━━━━━━━━━━━━━━━━━━━━━━━━━━━━━━━━╇━━━━━━━━━━━━━━━━━━━━━━━━╇━━━━━━━━━━━━━━━┩\n",
       "│ bidirectional (<span style=\"color: #0087ff; text-decoration-color: #0087ff\">Bidirectional</span>)   │ (<span style=\"color: #00d7ff; text-decoration-color: #00d7ff\">None</span>, <span style=\"color: #00af00; text-decoration-color: #00af00\">96</span>, <span style=\"color: #00af00; text-decoration-color: #00af00\">256</span>)        │       <span style=\"color: #00af00; text-decoration-color: #00af00\">108,288</span> │\n",
       "├─────────────────────────────────┼────────────────────────┼───────────────┤\n",
       "│ dropout (<span style=\"color: #0087ff; text-decoration-color: #0087ff\">Dropout</span>)               │ (<span style=\"color: #00d7ff; text-decoration-color: #00d7ff\">None</span>, <span style=\"color: #00af00; text-decoration-color: #00af00\">96</span>, <span style=\"color: #00af00; text-decoration-color: #00af00\">256</span>)        │             <span style=\"color: #00af00; text-decoration-color: #00af00\">0</span> │\n",
       "├─────────────────────────────────┼────────────────────────┼───────────────┤\n",
       "│ gru_1 (<span style=\"color: #0087ff; text-decoration-color: #0087ff\">GRU</span>)                     │ (<span style=\"color: #00d7ff; text-decoration-color: #00d7ff\">None</span>, <span style=\"color: #00af00; text-decoration-color: #00af00\">96</span>, <span style=\"color: #00af00; text-decoration-color: #00af00\">128</span>)        │       <span style=\"color: #00af00; text-decoration-color: #00af00\">148,224</span> │\n",
       "├─────────────────────────────────┼────────────────────────┼───────────────┤\n",
       "│ dropout_1 (<span style=\"color: #0087ff; text-decoration-color: #0087ff\">Dropout</span>)             │ (<span style=\"color: #00d7ff; text-decoration-color: #00d7ff\">None</span>, <span style=\"color: #00af00; text-decoration-color: #00af00\">96</span>, <span style=\"color: #00af00; text-decoration-color: #00af00\">128</span>)        │             <span style=\"color: #00af00; text-decoration-color: #00af00\">0</span> │\n",
       "├─────────────────────────────────┼────────────────────────┼───────────────┤\n",
       "│ bidirectional_1 (<span style=\"color: #0087ff; text-decoration-color: #0087ff\">Bidirectional</span>) │ (<span style=\"color: #00d7ff; text-decoration-color: #00d7ff\">None</span>, <span style=\"color: #00af00; text-decoration-color: #00af00\">96</span>, <span style=\"color: #00af00; text-decoration-color: #00af00\">256</span>)        │       <span style=\"color: #00af00; text-decoration-color: #00af00\">198,144</span> │\n",
       "├─────────────────────────────────┼────────────────────────┼───────────────┤\n",
       "│ dropout_2 (<span style=\"color: #0087ff; text-decoration-color: #0087ff\">Dropout</span>)             │ (<span style=\"color: #00d7ff; text-decoration-color: #00d7ff\">None</span>, <span style=\"color: #00af00; text-decoration-color: #00af00\">96</span>, <span style=\"color: #00af00; text-decoration-color: #00af00\">256</span>)        │             <span style=\"color: #00af00; text-decoration-color: #00af00\">0</span> │\n",
       "├─────────────────────────────────┼────────────────────────┼───────────────┤\n",
       "│ gru_3 (<span style=\"color: #0087ff; text-decoration-color: #0087ff\">GRU</span>)                     │ (<span style=\"color: #00d7ff; text-decoration-color: #00d7ff\">None</span>, <span style=\"color: #00af00; text-decoration-color: #00af00\">128</span>)            │       <span style=\"color: #00af00; text-decoration-color: #00af00\">148,224</span> │\n",
       "├─────────────────────────────────┼────────────────────────┼───────────────┤\n",
       "│ dropout_3 (<span style=\"color: #0087ff; text-decoration-color: #0087ff\">Dropout</span>)             │ (<span style=\"color: #00d7ff; text-decoration-color: #00d7ff\">None</span>, <span style=\"color: #00af00; text-decoration-color: #00af00\">128</span>)            │             <span style=\"color: #00af00; text-decoration-color: #00af00\">0</span> │\n",
       "├─────────────────────────────────┼────────────────────────┼───────────────┤\n",
       "│ dense_out (<span style=\"color: #0087ff; text-decoration-color: #0087ff\">Dense</span>)               │ (<span style=\"color: #00d7ff; text-decoration-color: #00d7ff\">None</span>, <span style=\"color: #00af00; text-decoration-color: #00af00\">48</span>)             │         <span style=\"color: #00af00; text-decoration-color: #00af00\">6,192</span> │\n",
       "└─────────────────────────────────┴────────────────────────┴───────────────┘\n",
       "</pre>\n"
      ],
      "text/plain": [
       "┏━━━━━━━━━━━━━━━━━━━━━━━━━━━━━━━━━┳━━━━━━━━━━━━━━━━━━━━━━━━┳━━━━━━━━━━━━━━━┓\n",
       "┃\u001b[1m \u001b[0m\u001b[1mLayer (type)                   \u001b[0m\u001b[1m \u001b[0m┃\u001b[1m \u001b[0m\u001b[1mOutput Shape          \u001b[0m\u001b[1m \u001b[0m┃\u001b[1m \u001b[0m\u001b[1m      Param #\u001b[0m\u001b[1m \u001b[0m┃\n",
       "┡━━━━━━━━━━━━━━━━━━━━━━━━━━━━━━━━━╇━━━━━━━━━━━━━━━━━━━━━━━━╇━━━━━━━━━━━━━━━┩\n",
       "│ bidirectional (\u001b[38;5;33mBidirectional\u001b[0m)   │ (\u001b[38;5;45mNone\u001b[0m, \u001b[38;5;34m96\u001b[0m, \u001b[38;5;34m256\u001b[0m)        │       \u001b[38;5;34m108,288\u001b[0m │\n",
       "├─────────────────────────────────┼────────────────────────┼───────────────┤\n",
       "│ dropout (\u001b[38;5;33mDropout\u001b[0m)               │ (\u001b[38;5;45mNone\u001b[0m, \u001b[38;5;34m96\u001b[0m, \u001b[38;5;34m256\u001b[0m)        │             \u001b[38;5;34m0\u001b[0m │\n",
       "├─────────────────────────────────┼────────────────────────┼───────────────┤\n",
       "│ gru_1 (\u001b[38;5;33mGRU\u001b[0m)                     │ (\u001b[38;5;45mNone\u001b[0m, \u001b[38;5;34m96\u001b[0m, \u001b[38;5;34m128\u001b[0m)        │       \u001b[38;5;34m148,224\u001b[0m │\n",
       "├─────────────────────────────────┼────────────────────────┼───────────────┤\n",
       "│ dropout_1 (\u001b[38;5;33mDropout\u001b[0m)             │ (\u001b[38;5;45mNone\u001b[0m, \u001b[38;5;34m96\u001b[0m, \u001b[38;5;34m128\u001b[0m)        │             \u001b[38;5;34m0\u001b[0m │\n",
       "├─────────────────────────────────┼────────────────────────┼───────────────┤\n",
       "│ bidirectional_1 (\u001b[38;5;33mBidirectional\u001b[0m) │ (\u001b[38;5;45mNone\u001b[0m, \u001b[38;5;34m96\u001b[0m, \u001b[38;5;34m256\u001b[0m)        │       \u001b[38;5;34m198,144\u001b[0m │\n",
       "├─────────────────────────────────┼────────────────────────┼───────────────┤\n",
       "│ dropout_2 (\u001b[38;5;33mDropout\u001b[0m)             │ (\u001b[38;5;45mNone\u001b[0m, \u001b[38;5;34m96\u001b[0m, \u001b[38;5;34m256\u001b[0m)        │             \u001b[38;5;34m0\u001b[0m │\n",
       "├─────────────────────────────────┼────────────────────────┼───────────────┤\n",
       "│ gru_3 (\u001b[38;5;33mGRU\u001b[0m)                     │ (\u001b[38;5;45mNone\u001b[0m, \u001b[38;5;34m128\u001b[0m)            │       \u001b[38;5;34m148,224\u001b[0m │\n",
       "├─────────────────────────────────┼────────────────────────┼───────────────┤\n",
       "│ dropout_3 (\u001b[38;5;33mDropout\u001b[0m)             │ (\u001b[38;5;45mNone\u001b[0m, \u001b[38;5;34m128\u001b[0m)            │             \u001b[38;5;34m0\u001b[0m │\n",
       "├─────────────────────────────────┼────────────────────────┼───────────────┤\n",
       "│ dense_out (\u001b[38;5;33mDense\u001b[0m)               │ (\u001b[38;5;45mNone\u001b[0m, \u001b[38;5;34m48\u001b[0m)             │         \u001b[38;5;34m6,192\u001b[0m │\n",
       "└─────────────────────────────────┴────────────────────────┴───────────────┘\n"
      ]
     },
     "metadata": {},
     "output_type": "display_data"
    },
    {
     "data": {
      "text/html": [
       "<pre style=\"white-space:pre;overflow-x:auto;line-height:normal;font-family:Menlo,'DejaVu Sans Mono',consolas,'Courier New',monospace\"><span style=\"font-weight: bold\"> Total params: </span><span style=\"color: #00af00; text-decoration-color: #00af00\">609,072</span> (2.32 MB)\n",
       "</pre>\n"
      ],
      "text/plain": [
       "\u001b[1m Total params: \u001b[0m\u001b[38;5;34m609,072\u001b[0m (2.32 MB)\n"
      ]
     },
     "metadata": {},
     "output_type": "display_data"
    },
    {
     "data": {
      "text/html": [
       "<pre style=\"white-space:pre;overflow-x:auto;line-height:normal;font-family:Menlo,'DejaVu Sans Mono',consolas,'Courier New',monospace\"><span style=\"font-weight: bold\"> Trainable params: </span><span style=\"color: #00af00; text-decoration-color: #00af00\">609,072</span> (2.32 MB)\n",
       "</pre>\n"
      ],
      "text/plain": [
       "\u001b[1m Trainable params: \u001b[0m\u001b[38;5;34m609,072\u001b[0m (2.32 MB)\n"
      ]
     },
     "metadata": {},
     "output_type": "display_data"
    },
    {
     "data": {
      "text/html": [
       "<pre style=\"white-space:pre;overflow-x:auto;line-height:normal;font-family:Menlo,'DejaVu Sans Mono',consolas,'Courier New',monospace\"><span style=\"font-weight: bold\"> Non-trainable params: </span><span style=\"color: #00af00; text-decoration-color: #00af00\">0</span> (0.00 B)\n",
       "</pre>\n"
      ],
      "text/plain": [
       "\u001b[1m Non-trainable params: \u001b[0m\u001b[38;5;34m0\u001b[0m (0.00 B)\n"
      ]
     },
     "metadata": {},
     "output_type": "display_data"
    },
    {
     "name": "stderr",
     "output_type": "stream",
     "text": [
      "2024-06-04 12:14:18,370 INFO Starting training for all available models...\n",
      "2024-06-04 12:14:18,370 INFO Generating a scaled dataset by using MinMaxScaler...\n",
      "2024-06-04 12:14:18,370 INFO The dataset includes columns: ['GHI', 'wind_dir', 'humidity', 'precipitation', 'air_temp', 'wind_sp', 'sun_elev', 'sun_azim', 'total_minutes_day', 'day_of_year', 'attenuation_index']\n",
      "2024-06-04 12:14:18,395 WARNING Output column should by the first column on dataset!\n",
      "2024-06-04 12:14:18,397 INFO Splitting data into train and test datasets with test size: 0.3\n",
      "2024-06-04 12:14:18,912 INFO \n",
      "-----------------------------\n",
      "X Train shape: (110300, 96, 11) \n",
      "y Train shape: (110300, 48) \n",
      "X Test shape: (47190, 96, 11) \n",
      "y Test shape: (47190, 48) \n",
      "-----------------------------\n",
      "\n",
      "2024-06-04 12:14:18,918 INFO Model with name GRU_2_look96_overlap1 will be saved on directory ./data/models_trained...\n"
     ]
    },
    {
     "name": "stdout",
     "output_type": "stream",
     "text": [
      "Epoch 1/50\n",
      "\u001b[1m3447/3447\u001b[0m \u001b[32m━━━━━━━━━━━━━━━━━━━━\u001b[0m\u001b[37m\u001b[0m \u001b[1m664s\u001b[0m 192ms/step - loss: 0.0070 - mae: 0.0825 - mse: 0.0141 - val_loss: 0.0099 - val_mae: 0.0960 - val_mse: 0.0199\n",
      "Epoch 2/50\n",
      "\u001b[1m3447/3447\u001b[0m \u001b[32m━━━━━━━━━━━━━━━━━━━━\u001b[0m\u001b[37m\u001b[0m \u001b[1m646s\u001b[0m 188ms/step - loss: 0.0052 - mae: 0.0678 - mse: 0.0104 - val_loss: 0.0102 - val_mae: 0.0950 - val_mse: 0.0205\n",
      "Epoch 3/50\n",
      "\u001b[1m3447/3447\u001b[0m \u001b[32m━━━━━━━━━━━━━━━━━━━━\u001b[0m\u001b[37m\u001b[0m \u001b[1m653s\u001b[0m 189ms/step - loss: 0.0050 - mae: 0.0648 - mse: 0.0099 - val_loss: 0.0095 - val_mae: 0.0900 - val_mse: 0.0191\n",
      "Epoch 4/50\n",
      "\u001b[1m3447/3447\u001b[0m \u001b[32m━━━━━━━━━━━━━━━━━━━━\u001b[0m\u001b[37m\u001b[0m \u001b[1m652s\u001b[0m 189ms/step - loss: 0.0047 - mae: 0.0627 - mse: 0.0095 - val_loss: 0.0088 - val_mae: 0.0864 - val_mse: 0.0177\n",
      "Epoch 5/50\n",
      "\u001b[1m3447/3447\u001b[0m \u001b[32m━━━━━━━━━━━━━━━━━━━━\u001b[0m\u001b[37m\u001b[0m \u001b[1m655s\u001b[0m 190ms/step - loss: 0.0045 - mae: 0.0607 - mse: 0.0090 - val_loss: 0.0081 - val_mae: 0.0827 - val_mse: 0.0161\n",
      "Epoch 6/50\n",
      "\u001b[1m3447/3447\u001b[0m \u001b[32m━━━━━━━━━━━━━━━━━━━━\u001b[0m\u001b[37m\u001b[0m \u001b[1m673s\u001b[0m 195ms/step - loss: 0.0043 - mae: 0.0593 - mse: 0.0087 - val_loss: 0.0076 - val_mae: 0.0802 - val_mse: 0.0151\n",
      "Epoch 7/50\n",
      "\u001b[1m3447/3447\u001b[0m \u001b[32m━━━━━━━━━━━━━━━━━━━━\u001b[0m\u001b[37m\u001b[0m \u001b[1m672s\u001b[0m 195ms/step - loss: 0.0042 - mae: 0.0579 - mse: 0.0084 - val_loss: 0.0072 - val_mae: 0.0783 - val_mse: 0.0144\n",
      "Epoch 8/50\n",
      "\u001b[1m3447/3447\u001b[0m \u001b[32m━━━━━━━━━━━━━━━━━━━━\u001b[0m\u001b[37m\u001b[0m \u001b[1m663s\u001b[0m 192ms/step - loss: 0.0040 - mae: 0.0568 - mse: 0.0081 - val_loss: 0.0071 - val_mae: 0.0776 - val_mse: 0.0142\n",
      "Epoch 9/50\n",
      "\u001b[1m3447/3447\u001b[0m \u001b[32m━━━━━━━━━━━━━━━━━━━━\u001b[0m\u001b[37m\u001b[0m \u001b[1m662s\u001b[0m 192ms/step - loss: 0.0039 - mae: 0.0559 - mse: 0.0079 - val_loss: 0.0067 - val_mae: 0.0753 - val_mse: 0.0133\n",
      "Epoch 10/50\n",
      "\u001b[1m3447/3447\u001b[0m \u001b[32m━━━━━━━━━━━━━━━━━━━━\u001b[0m\u001b[37m\u001b[0m \u001b[1m661s\u001b[0m 192ms/step - loss: 0.0039 - mae: 0.0553 - mse: 0.0077 - val_loss: 0.0063 - val_mae: 0.0736 - val_mse: 0.0127\n",
      "Epoch 11/50\n",
      "\u001b[1m3447/3447\u001b[0m \u001b[32m━━━━━━━━━━━━━━━━━━━━\u001b[0m\u001b[37m\u001b[0m \u001b[1m673s\u001b[0m 195ms/step - loss: 0.0038 - mae: 0.0547 - mse: 0.0076 - val_loss: 0.0062 - val_mae: 0.0721 - val_mse: 0.0123\n",
      "Epoch 12/50\n",
      "\u001b[1m3447/3447\u001b[0m \u001b[32m━━━━━━━━━━━━━━━━━━━━\u001b[0m\u001b[37m\u001b[0m \u001b[1m660s\u001b[0m 191ms/step - loss: 0.0037 - mae: 0.0541 - mse: 0.0074 - val_loss: 0.0060 - val_mae: 0.0710 - val_mse: 0.0120\n",
      "Epoch 13/50\n",
      "\u001b[1m3447/3447\u001b[0m \u001b[32m━━━━━━━━━━━━━━━━━━━━\u001b[0m\u001b[37m\u001b[0m \u001b[1m662s\u001b[0m 192ms/step - loss: 0.0037 - mae: 0.0536 - mse: 0.0073 - val_loss: 0.0062 - val_mae: 0.0720 - val_mse: 0.0123\n",
      "Epoch 14/50\n",
      "\u001b[1m3447/3447\u001b[0m \u001b[32m━━━━━━━━━━━━━━━━━━━━\u001b[0m\u001b[37m\u001b[0m \u001b[1m663s\u001b[0m 192ms/step - loss: 0.0037 - mae: 0.0537 - mse: 0.0073 - val_loss: 0.0058 - val_mae: 0.0696 - val_mse: 0.0116\n",
      "Epoch 15/50\n",
      "\u001b[1m3447/3447\u001b[0m \u001b[32m━━━━━━━━━━━━━━━━━━━━\u001b[0m\u001b[37m\u001b[0m \u001b[1m667s\u001b[0m 193ms/step - loss: 0.0036 - mae: 0.0528 - mse: 0.0071 - val_loss: 0.0054 - val_mae: 0.0669 - val_mse: 0.0108\n",
      "Epoch 16/50\n",
      "\u001b[1m3447/3447\u001b[0m \u001b[32m━━━━━━━━━━━━━━━━━━━━\u001b[0m\u001b[37m\u001b[0m \u001b[1m671s\u001b[0m 195ms/step - loss: 0.0035 - mae: 0.0523 - mse: 0.0070 - val_loss: 0.0054 - val_mae: 0.0669 - val_mse: 0.0108\n",
      "Epoch 17/50\n",
      "\u001b[1m3447/3447\u001b[0m \u001b[32m━━━━━━━━━━━━━━━━━━━━\u001b[0m\u001b[37m\u001b[0m \u001b[1m684s\u001b[0m 198ms/step - loss: 0.0035 - mae: 0.0525 - mse: 0.0070 - val_loss: 0.0048 - val_mae: 0.0627 - val_mse: 0.0095\n",
      "Epoch 18/50\n",
      "\u001b[1m2998/3447\u001b[0m \u001b[32m━━━━━━━━━━━━━━━━━\u001b[0m\u001b[37m━━━\u001b[0m \u001b[1m1:15\u001b[0m 168ms/step - loss: 0.0034 - mae: 0.0514 - mse: 0.0067"
     ]
    },
    {
     "name": "stderr",
     "output_type": "stream",
     "text": [
      "\n",
      "KeyboardInterrupt\n",
      "\n"
     ]
    }
   ],
   "source": [
    "for model_conf in model_configurations:\n",
    "    backend.clear_session()\n",
    "    model = model_generator.generate_model(model_conf)\n",
    "    training_params, scaler_x, scaler_y = trainer.train_model_params(model_conf, dataset, model_save_dir)\n",
    "    history = model.fit(**training_params)\n",
    "    trainer.save_history(model.name, history.history, model_save_dir)\n",
    "    save_scaler(scaler_x, f'{model_save_dir}/{model.name}_scaler_x.pkl')\n",
    "    save_scaler(scaler_y, f'{model_save_dir}/{model.name}_scaler_y.pkl')\n"
   ]
  },
  {
   "cell_type": "code",
   "execution_count": null,
   "id": "b90347c3e750e51c",
   "metadata": {
    "ExecuteTime": {
     "end_time": "2024-06-04T20:30:45.236256Z",
     "start_time": "2024-06-04T20:30:45.234546Z"
    }
   },
   "outputs": [],
   "source": [
    "data_for_eval = DataSelectionForEvaluator(dataset)\n",
    "time_stamps = ['2008-01-01 06:00:00', '2008-04-01 06:00:00', '2008-07-01 06:00:00', '2008-10-01 06:00:00']\n",
    "for model_conf in model_configurations:\n",
    "    model = env_dir_options.load_model(os.path.join(model_save_dir, f'{model_conf[\"model\"][\"name\"]}.keras'))\n",
    "    history = json.load(open(os.path.join(model_save_dir, f'{model_conf[\"model\"][\"name\"]}_history.json')))\n",
    "    scaler_x = load_scaler(os.path.join(model_save_dir, f'{model_conf[\"model\"][\"name\"]}_scaler_x.pkl'))\n",
    "    scaler_y = load_scaler(os.path.join(model_save_dir, f'{model_conf[\"model\"][\"name\"]}_scaler_y.pkl'))\n",
    "\n",
    "    # Evaluation of the model in different timestamps\n",
    "\n",
    "    for iter, time_stamp in enumerate(time_stamps):\n",
    "        y_true, y_pred, extended_y_true = data_for_eval.data_selection(model_=model,\n",
    "                                                                       time_stamp=time_stamp,\n",
    "                                                                       num_look_back_steps=model_conf[\"model\"][\"training\"][\n",
    "                                                                           \"n_past_steps\"],\n",
    "                                                                       num_forecast_steps=model_conf[\"model\"][\"training\"][\n",
    "                                                                           \"n_forecast_steps\"],\n",
    "                                                                       columns_for_training=\n",
    "                                                                       model_conf[\"model\"][\"training\"][\n",
    "                                                                           \"columns_for_training\"],\n",
    "                                                                       scaler_x=scaler_x,\n",
    "                                                                       scaler_y=scaler_y,\n",
    "                                                                       date_index=\"timestamp\",\n",
    "                                                                       target_column=\"GHI\")\n",
    "    \n",
    "        evaluator = ModelEvaluator(y_true, y_pred)\n",
    "        if iter == 0:\n",
    "            evaluator.plot_loss(history, 'Huber loss')\n",
    "        evaluator.plot_residuals()\n",
    "        evaluator.plot_actual_vs_predicted(extended_y_true, model_conf[\"model\"][\"training\"][\"n_past_steps\"])"
   ]
  },
  {
   "cell_type": "code",
   "execution_count": null,
   "id": "598a502f6f7d9210",
   "metadata": {
    "ExecuteTime": {
     "end_time": "2024-06-04T20:30:45.244975Z",
     "start_time": "2024-06-04T20:30:45.244038Z"
    }
   },
   "outputs": [],
   "source": []
  }
 ],
 "metadata": {
  "kernelspec": {
   "display_name": "Python 3",
   "language": "python",
   "name": "python3"
  },
  "language_info": {
   "codemirror_mode": {
    "name": "ipython",
    "version": 2
   },
   "file_extension": ".py",
   "mimetype": "text/x-python",
   "name": "python",
   "nbconvert_exporter": "python",
   "pygments_lexer": "ipython2",
   "version": "2.7.6"
  }
 },
 "nbformat": 4,
 "nbformat_minor": 5
}
